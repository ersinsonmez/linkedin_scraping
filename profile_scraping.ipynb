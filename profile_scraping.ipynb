{
 "cells": [
  {
   "cell_type": "markdown",
   "id": "33af6e92",
   "metadata": {},
   "source": [
    "# Profile Scraping\n",
    "\n",
    "Note: Before running this script, please execute \"chromedriver_win32.zip\" and don't forget to install the necessary packages with \"pip install\"."
   ]
  },
  {
   "cell_type": "code",
   "execution_count": 13,
   "id": "ac2b5e66",
   "metadata": {},
   "outputs": [
    {
     "name": "stdout",
     "output_type": "stream",
     "text": [
      "- Finished: importing package\n"
     ]
    }
   ],
   "source": [
    "from selenium import webdriver\n",
    "#from selenium.webdriver.common.keys import Keys\n",
    "from bs4 import BeautifulSoup\n",
    "from time import sleep\n",
    "import random\n",
    "\n",
    "print('- Finished: importing package')"
   ]
  },
  {
   "cell_type": "markdown",
   "id": "0a208f14",
   "metadata": {},
   "source": [
    "## Step 1: Login to Linkedin"
   ]
  },
  {
   "cell_type": "markdown",
   "id": "06415285",
   "metadata": {},
   "source": [
    "### Open Chrome and Login Linkedin"
   ]
  },
  {
   "cell_type": "code",
   "execution_count": 14,
   "id": "a59eed67",
   "metadata": {},
   "outputs": [
    {
     "name": "stdout",
     "output_type": "stream",
     "text": [
      "- Finished: initializing a browser\n"
     ]
    }
   ],
   "source": [
    "browser = webdriver.Chrome()\n",
    "url = \"https://www.linkedin.com/login\"\n",
    "browser.get(url)\n",
    "print('- Finished: initializing a browser')\n",
    "sleep(2)"
   ]
  },
  {
   "cell_type": "markdown",
   "id": "d85ed693",
   "metadata": {},
   "source": [
    "### Login Info (read from file)\n",
    "Mail and password are read from the file"
   ]
  },
  {
   "cell_type": "code",
   "execution_count": 15,
   "id": "11fbb9a9",
   "metadata": {},
   "outputs": [
    {
     "name": "stdout",
     "output_type": "stream",
     "text": [
      "- Finished: importing the login credentials\n"
     ]
    }
   ],
   "source": [
    "credential = open('login_info.txt','r')\n",
    "line = credential.readlines()\n",
    "username = line[0]\n",
    "password = line[1]\n",
    "print('- Finished: importing the login credentials')"
   ]
  },
  {
   "cell_type": "markdown",
   "id": "b6fda00c",
   "metadata": {},
   "source": [
    "### Key in username"
   ]
  },
  {
   "cell_type": "code",
   "execution_count": 16,
   "id": "6556ba04",
   "metadata": {},
   "outputs": [
    {
     "name": "stdout",
     "output_type": "stream",
     "text": [
      "- Finished: keying in email\n"
     ]
    }
   ],
   "source": [
    "email_field = browser.find_element('id','username')\n",
    "email_field.send_keys(username)\n",
    "print('- Finished: keying in email')\n",
    "sleep(3)"
   ]
  },
  {
   "cell_type": "markdown",
   "id": "39821f83",
   "metadata": {},
   "source": [
    "### Key in password"
   ]
  },
  {
   "cell_type": "code",
   "execution_count": 17,
   "id": "9a237ee5",
   "metadata": {},
   "outputs": [
    {
     "name": "stdout",
     "output_type": "stream",
     "text": [
      "- Finished: keying in password\n"
     ]
    }
   ],
   "source": [
    "password_field = browser.find_element('name','session_password')\n",
    "password_field.send_keys(password)\n",
    "print('- Finished: keying in password')\n",
    "sleep(3)"
   ]
  },
  {
   "cell_type": "markdown",
   "id": "34a21f09",
   "metadata": {},
   "source": [
    "### Click login button"
   ]
  },
  {
   "cell_type": "code",
   "execution_count": 18,
   "id": "1037a4ec",
   "metadata": {},
   "outputs": [
    {
     "name": "stdout",
     "output_type": "stream",
     "text": [
      "- Finished: logging in\n"
     ]
    }
   ],
   "source": [
    "login_field = browser.find_element('xpath','//*[@id=\"organic-div\"]/form/div[3]/button')\n",
    "login_field.click()\n",
    "print('- Finished: logging in')\n",
    "sleep(2)"
   ]
  },
  {
   "cell_type": "markdown",
   "id": "9975b17a",
   "metadata": {},
   "source": [
    "## Step 2: Import Scaraped URL's List from Text"
   ]
  },
  {
   "cell_type": "code",
   "execution_count": 19,
   "id": "16e98d38",
   "metadata": {},
   "outputs": [
    {
     "name": "stdout",
     "output_type": "stream",
     "text": [
      "- Finished: imported successfully\n"
     ]
    }
   ],
   "source": [
    "ScrapedURLs = open('ScrapedURLs.txt','r')\n",
    "URLs = ScrapedURLs.readlines()\n",
    "print('- Finished: imported successfully')"
   ]
  },
  {
   "cell_type": "markdown",
   "id": "a5381373",
   "metadata": {},
   "source": [
    "## Step 3: Scrape each Profiles Bio"
   ]
  },
  {
   "cell_type": "code",
   "execution_count": null,
   "id": "7f239a17",
   "metadata": {},
   "outputs": [],
   "source": [
    "fp = open(r'AllData.txt', 'w',encoding=\"utf-8\")\n",
    "\n",
    "info = []\n",
    "for link in URLs:\n",
    "    browser.get(link)\n",
    "    \n",
    "    rand_wait = random.randint(5, 15) # wait randomly in profile\n",
    "    \n",
    "    sleep(rand_wait)\n",
    "        \n",
    "    src = browser.page_source\n",
    "    soup = BeautifulSoup(src, 'html.parser')\n",
    "        \n",
    "    info_div = soup.find('div',{'class': 'mt2 relative'})\n",
    "    info_div_ul = info_div.find('ul')\n",
    "    name = info_div.find('div').find('div').find('h1').get_text().strip()\n",
    "    \n",
    "    if info_div_ul==None:\n",
    "        print(f\"- Error...: no school or work experience --> {name}\")\n",
    "        continue\n",
    "  \n",
    "    if info_div_ul.find_all('li')[0].find('button').get(\"aria-label\").find(\"experience\")== -1: # change for TR (Language)--> \"experience\" to \"deneyim\"\n",
    "        print(f\"- Error...: no work experience --> {name}\")\n",
    "        continue\n",
    "    \n",
    "    if len(info_div_ul.find_all('li'))<2:\n",
    "        print(f\"- Error...: no school information --> {name}\")\n",
    "        continue\n",
    "    \n",
    "\n",
    "    company =  info_div_ul.find_all('li')[0].get_text().strip()\n",
    "    university = info_div_ul_li = info_div_ul.find_all('li')[1].get_text().strip()\n",
    "    profile_title = info_div.find('div').find('div',{'class':'text-body-medium break-words'}).get_text().strip()\n",
    "    loc = info_div.find('div',{'class':'pv-text-details__left-panel mt2'}).find('span').get_text().strip()\n",
    "     \n",
    "    if profile_title.find(\",\")!=-1:\n",
    "        profile_title=profile_title.split(\",\")[0].strip()\n",
    "\n",
    "    if profile_title.find(\"at\")!=-1:\n",
    "        profile_title=profile_title.split(\"at\")[0].strip()\n",
    "        \n",
    "    if profile_title.find(\"/\")!=-1:\n",
    "        profile_title=profile_title.split(\"/\")[0].strip()\n",
    "    \n",
    "    if company in profile_title:\n",
    "         profile_title = profile_title.replace(company, '')\n",
    "         profile_title = profile_title.replace(\"şirketinde\", '')\n",
    "         profile_title = profile_title.replace(\"at\", '')\n",
    "         profile_title = profile_title.strip()\n",
    "        \n",
    "    if name.find(\",\")!=-1:\n",
    "        name=name.split(\",\")[0]\n",
    "    \n",
    "    if university.find(\"/\")!=-1:\n",
    "        university=university.split(\"/\")[0]\n",
    "\n",
    "    # info.append(link)\n",
    "    info.append(name)\n",
    "    info.append(company)\n",
    "    info.append(university)\n",
    "    info.append(profile_title)\n",
    "    info.append(loc)\n",
    "    \n",
    "    fp.write(\"%s;%s;%s;%s;%s\\n\" % (name,company,university,profile_title,loc))\n",
    "    \n",
    "    print(f\"- Finished: information gathered --> {name}\")\n",
    "    sleep(rand_wait)\n",
    "\n",
    "fp.close()"
   ]
  }
 ],
 "metadata": {
  "kernelspec": {
   "display_name": "Python 3 (ipykernel)",
   "language": "python",
   "name": "python3"
  },
  "language_info": {
   "codemirror_mode": {
    "name": "ipython",
    "version": 3
   },
   "file_extension": ".py",
   "mimetype": "text/x-python",
   "name": "python",
   "nbconvert_exporter": "python",
   "pygments_lexer": "ipython3",
   "version": "3.9.13"
  }
 },
 "nbformat": 4,
 "nbformat_minor": 5
}
